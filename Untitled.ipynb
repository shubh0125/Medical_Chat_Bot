{
 "cells": [
  {
   "cell_type": "code",
   "execution_count": 67,
   "id": "00b352d1",
   "metadata": {},
   "outputs": [],
   "source": [
    "#app.py"
   ]
  },
  {
   "cell_type": "code",
   "execution_count": 68,
   "id": "d4c8bbf6",
   "metadata": {},
   "outputs": [],
   "source": [
    "import re # for regex\n",
    "import random\n",
    "#importing all necessary libraries for ML\n",
    "import pandas as pd\n",
    "from sklearn import preprocessing\n",
    "import numpy as np\n",
    "from sklearn.model_selection import train_test_split\n",
    "\n",
    "from sklearn.tree import DecisionTreeClassifier,_tree\n",
    "import numpy as np\n",
    "from sklearn.model_selection import cross_val_score\n",
    "from sklearn.svm import SVC\n",
    "import csv\n",
    "import warnings\n",
    "warnings.filterwarnings(\"ignore\", category=DeprecationWarning)\n",
    "warnings.filterwarnings(\"ignore\", category=UserWarning)"
   ]
  },
  {
   "cell_type": "code",
   "execution_count": 69,
   "id": "477b1029",
   "metadata": {},
   "outputs": [],
   "source": [
    "training = pd.read_csv('Training.csv')\n",
    "testing= pd.read_csv('Testing.csv')\n",
    "cols= training.columns\n",
    "cols= cols[:-1]   #feature columns\n",
    "X = training[cols]\n",
    "Y = training['prognosis']"
   ]
  },
  {
   "cell_type": "code",
   "execution_count": 70,
   "id": "585e5f15",
   "metadata": {},
   "outputs": [],
   "source": [
    "#assigning values to strings\n",
    "le = preprocessing.LabelEncoder()\n",
    "le.fit(Y)\n",
    "Y = le.transform(Y)"
   ]
  },
  {
   "cell_type": "code",
   "execution_count": 71,
   "id": "f8af8bc1",
   "metadata": {},
   "outputs": [],
   "source": [
    "#splitting dataset into test and train data\n",
    "x_train, x_test, y_train, y_test = train_test_split(X, Y, test_size=0.33, random_state=42)"
   ]
  },
  {
   "cell_type": "code",
   "execution_count": 72,
   "id": "eb62abfe",
   "metadata": {},
   "outputs": [],
   "source": [
    "# Decision Tree\n",
    "clf1  = DecisionTreeClassifier()\n",
    "clf = clf1.fit(x_train,y_train)"
   ]
  },
  {
   "cell_type": "code",
   "execution_count": 73,
   "id": "e218cd81",
   "metadata": {},
   "outputs": [],
   "source": [
    "#storing the data from csv into dictionaries\n",
    "severityDictionary = {}\n",
    "description_list = {}\n",
    "precautionDictionary = {}"
   ]
  },
  {
   "cell_type": "code",
   "execution_count": 74,
   "id": "5bd9d875",
   "metadata": {},
   "outputs": [],
   "source": [
    "def getDescription():\n",
    "    global description_list\n",
    "    with open('symptom_Description.csv') as csv_file:\n",
    "        csv_reader = csv.reader(csv_file, delimiter=',')\n",
    "        for row in csv_reader:\n",
    "            _description={row[0]:row[1]}\n",
    "            description_list.update(_description)"
   ]
  },
  {
   "cell_type": "code",
   "execution_count": 75,
   "id": "ff31ae02",
   "metadata": {},
   "outputs": [],
   "source": [
    "def getSeverityDict():\n",
    "    global severityDictionary\n",
    "    with open('symptom_severity.csv') as csv_file:\n",
    "\n",
    "        csv_reader = csv.reader(csv_file, delimiter=',')\n",
    "        try:\n",
    "            for row in csv_reader:\n",
    "                _diction={row[0]:int(row[1])}\n",
    "                severityDictionary.update(_diction)\n",
    "        except:\n",
    "            pass"
   ]
  },
  {
   "cell_type": "code",
   "execution_count": 76,
   "id": "f67f9462",
   "metadata": {},
   "outputs": [],
   "source": [
    "def getprecautionDict():\n",
    "    global precautionDictionary\n",
    "    with open('symptom_precaution.csv') as csv_file:\n",
    "\n",
    "        csv_reader = csv.reader(csv_file, delimiter=',')\n",
    "        for row in csv_reader:\n",
    "            _prec={row[0]:[row[1],row[2],row[3],row[4]]}\n",
    "            precautionDictionary.update(_prec)"
   ]
  },
  {
   "cell_type": "code",
   "execution_count": 77,
   "id": "2daa2b6d",
   "metadata": {},
   "outputs": [],
   "source": [
    "def getInfo():\n",
    "    # name=input(\"Name:\")\n",
    "    print(\"Your Name\",end=\"->\")\n",
    "    name=input(\"\")\n",
    "    print(\"hello \",name)"
   ]
  },
  {
   "cell_type": "code",
   "execution_count": 78,
   "id": "efc064a4",
   "metadata": {},
   "outputs": [],
   "source": [
    "def check_pattern(dis_list,inp):\n",
    "    import re\n",
    "    pred_list=[]\n",
    "    ptr=0\n",
    "    regexp = re.compile(inp)\n",
    "    for item in dis_list:\n",
    "\n",
    "        if regexp.search(item):\n",
    "            pred_list.append(item)\n",
    "            # return 1,item\n",
    "    if(len(pred_list)>0):\n",
    "        return 1,pred_list\n",
    "    else:\n",
    "        return ptr,item"
   ]
  },
  {
   "cell_type": "code",
   "execution_count": 79,
   "id": "0aae83dc",
   "metadata": {},
   "outputs": [],
   "source": [
    "def sec_predict(symptoms_exp):\n",
    "    df = pd.read_csv('Training.csv')\n",
    "    X = df.iloc[:, :-1]\n",
    "    y = df['prognosis']\n",
    "    X_train, X_test, y_train, y_test = train_test_split(X, y, test_size=0.3, random_state=20)\n",
    "    dT_clf = DecisionTreeClassifier()\n",
    "    dT_clf.fit(X_train, y_train)\n",
    "\n",
    "    symptoms_dict = {}\n",
    "\n",
    "    for index, symptom in enumerate(X):\n",
    "        symptoms_dict[symptom] = index\n",
    "\n",
    "    input_vector = np.zeros(len(symptoms_dict))\n",
    "    for item in symptoms_exp:\n",
    "      input_vector[[symptoms_dict[item]]] = 1\n",
    "\n",
    "    return dT_clf.predict([input_vector])"
   ]
  },
  {
   "cell_type": "code",
   "execution_count": 80,
   "id": "87085518",
   "metadata": {},
   "outputs": [],
   "source": [
    "def calc_condition(exp,days):\n",
    "    sum=0\n",
    "    for item in exp:\n",
    "         sum=sum+severityDictionary[item]\n",
    "    if((sum*days)/(len(exp)+1)>13):\n",
    "        print(\"You should take the consultation from doctor. \")\n",
    "    else:\n",
    "        print(\"It might not be that bad but you should take precautions.\")"
   ]
  },
  {
   "cell_type": "code",
   "execution_count": 81,
   "id": "3bd599c4",
   "metadata": {},
   "outputs": [],
   "source": [
    "def print_disease(node):\n",
    "    #print(node)\n",
    "    node = node[0]\n",
    "    #print(len(node))\n",
    "    val  = node.nonzero() \n",
    "    # print(val)\n",
    "    disease = le.inverse_transform(val[0])\n",
    "    return disease"
   ]
  },
  {
   "cell_type": "code",
   "execution_count": 82,
   "id": "b735738d",
   "metadata": {},
   "outputs": [],
   "source": [
    "reduced_data = training.groupby(training['prognosis']).max()"
   ]
  },
  {
   "cell_type": "code",
   "execution_count": 83,
   "id": "dc245f2b",
   "metadata": {},
   "outputs": [],
   "source": [
    "def tree_to_code(tree, feature_names):\n",
    "    tree_ = tree.tree_\n",
    "    # print(tree_)\n",
    "    feature_name = [\n",
    "        feature_names[i] if i != _tree.TREE_UNDEFINED else \"undefined!\"\n",
    "        for i in tree_.feature\n",
    "    ]\n",
    "\n",
    "    chk_dis=\",\".join(feature_names).split(\",\")\n",
    "    symptoms_present = []\n",
    "\n",
    "\n",
    "    # conf_inp=int()\n",
    "    while True:\n",
    "\n",
    "        print(\"Enter the symptom you are experiencing \\n\",end=\"->\")\n",
    "        disease_input = input(\"\")\n",
    "        conf,cnf_dis=check_pattern(chk_dis,disease_input)\n",
    "        if conf==1:\n",
    "            print(\"searches related to input: \")\n",
    "            for num,it in enumerate(cnf_dis):\n",
    "                print(num,\")\",it)\n",
    "            if num!=0:\n",
    "                print(f\"Select the one you meant (0 - {num}):  \", end=\"\")\n",
    "                conf_inp = int(input(\"\"))\n",
    "            else:\n",
    "                conf_inp=0\n",
    "\n",
    "            disease_input=cnf_dis[conf_inp]\n",
    "            break\n",
    " \n",
    "        else:\n",
    "            print(\"Enter valid symptom.\")\n",
    "\n",
    "    while True:\n",
    "        try:\n",
    "            num_days=int(input(\"Okay. From how many days ? : \"))\n",
    "            break\n",
    "        except:\n",
    "            print(\"Enter number of days.\")\n",
    "    def recurse(node, depth):\n",
    "        indent = \"  \" * depth\n",
    "        if tree_.feature[node] != _tree.TREE_UNDEFINED:\n",
    "            name = feature_name[node]\n",
    "            threshold = tree_.threshold[node]\n",
    "\n",
    "            if name == disease_input:\n",
    "                val = 1\n",
    "            else:\n",
    "                val = 0\n",
    "            if  val <= threshold:\n",
    "                recurse(tree_.children_left[node], depth + 1)\n",
    "            else:\n",
    "                symptoms_present.append(name)\n",
    "                recurse(tree_.children_right[node], depth + 1)\n",
    "        else:\n",
    "            present_disease = print_disease(tree_.value[node])\n",
    "            # print( \"You may have \" +  present_disease )\n",
    "            red_cols = reduced_data.columns \n",
    "            symptoms_given = red_cols[reduced_data.loc[present_disease].values[0].nonzero()]\n",
    "            \n",
    "            print(\"Are you experiencing any \")\n",
    "            symptoms_exp=[]\n",
    "            for syms in list(symptoms_given):\n",
    "                inp=\"\"\n",
    "                print(syms,\"? : \",end='')\n",
    "                while True:\n",
    "                    inp=input(\"\")\n",
    "                    if(inp==\"yes\" or inp==\"no\"):\n",
    "                        break\n",
    "                    else:\n",
    "                        print(\"provide proper answers i.e. (yes/no) : \",end=\"\")\n",
    "                if(inp==\"yes\"):\n",
    "                    symptoms_exp.append(syms)\n",
    "\n",
    "            second_prediction=sec_predict(symptoms_exp)\n",
    "            # print(second_prediction)\n",
    "            calc_condition(symptoms_exp,num_days)\n",
    "            if(present_disease[0]==second_prediction[0]):\n",
    "                print(\"You may have \", present_disease[0])\n",
    "\n",
    "                print(description_list[present_disease[0]])\n",
    "\n",
    "\n",
    "\n",
    "            else:\n",
    "                print(\"You may have \", present_disease[0], \"or \", second_prediction[0])\n",
    "                print(description_list[present_disease[0]])\n",
    "                print(description_list[second_prediction[0]])\n",
    "\n",
    "            # print(description_list[present_disease[0]])\n",
    "            precution_list=precautionDictionary[present_disease[0]]\n",
    "            print(\"Take following measures : \")\n",
    "            for  i,j in enumerate(precution_list):\n",
    "                print(i+1,\")\",j)\n",
    "\n",
    "\n",
    "\n",
    "    recurse(0, 1)\n"
   ]
  },
  {
   "cell_type": "code",
   "execution_count": 84,
   "id": "cef9c621",
   "metadata": {},
   "outputs": [],
   "source": [
    "def prognosisPredictor():\n",
    "  getSeverityDict()\n",
    "  getDescription()\n",
    "  getprecautionDict()\n",
    "  # getInfo()\n",
    "  tree_to_code(clf,cols)"
   ]
  },
  {
   "cell_type": "code",
   "execution_count": 85,
   "id": "b122838b",
   "metadata": {},
   "outputs": [],
   "source": [
    "# fn for splitting the body of text into its constituent sentences\n",
    "def splitIntoSentences(text):\n",
    "  sentences = re.split(\"[.!?]\", text)\n",
    "  try:\n",
    "    sentences.remove(\"\")\n",
    "  except:\n",
    "    pass\n",
    "  return sentences\n"
   ]
  },
  {
   "cell_type": "code",
   "execution_count": 86,
   "id": "64d20780",
   "metadata": {},
   "outputs": [],
   "source": [
    "# fn for extracting the individual words from the sentence\n",
    "def tokenizer(sentence):\n",
    "  words = re.split(\"[\\s,]\", sentence)\n",
    "  try:\n",
    "    words.remove(\"\")\n",
    "  except:\n",
    "    pass\n",
    "  return words"
   ]
  },
  {
   "cell_type": "code",
   "execution_count": 87,
   "id": "75d18e3c",
   "metadata": {},
   "outputs": [],
   "source": [
    "# stemming the words\n",
    "def stemmer(tokens):\n",
    "  stem = []\n",
    "  for token in tokens:\n",
    "    if token.endswith(\"ies\"):\n",
    "      token = token.replace('ies','y',1)\n",
    "      stem.append(token)\n",
    "    elif token.endswith('s'):\n",
    "      stem.append(token[0:-1])\n",
    "    elif token.endswith(\"ed\"):\n",
    "      stem.append(token[0:-2])\n",
    "    elif token.endswith(\"ing\"):\n",
    "      stem.append(token[0:-3])\n",
    "    else:\n",
    "      stem.append(token)\n",
    "  return stemmer"
   ]
  },
  {
   "cell_type": "code",
   "execution_count": 88,
   "id": "9c183346",
   "metadata": {},
   "outputs": [],
   "source": [
    "# function that can clean up any body of text\n",
    "def cleanTxt(text):\n",
    "    text = str(text)\n",
    "    text = text.lower()\n",
    "    text = re.sub(r'[;:!\\\\\"\\'()\\[\\]]',\"\", text)\n",
    "    text = re.sub(r'(<br\\s*/><br\\s*/>)|(\\-)|(\\/)',\" \", text)\n",
    "    return text"
   ]
  },
  {
   "cell_type": "code",
   "execution_count": 89,
   "id": "8982f51b",
   "metadata": {},
   "outputs": [],
   "source": [
    "# function for processing the chat on user side\n",
    "def userChat(request):\n",
    "  processedText = []\n",
    "  reqSentences = splitIntoSentences(request)\n",
    "  for i in range(0,len(reqSentences)):\n",
    "    words = tokenizer(reqSentences[i])\n",
    "    stemmedWords = stemmer(words)\n",
    "    stemmedSentence = ' '.join(stemmedWords)\n",
    "    processedText.append(stemmedSentence)\n",
    "  return processedText"
   ]
  },
  {
   "cell_type": "code",
   "execution_count": 90,
   "id": "8a08b292",
   "metadata": {},
   "outputs": [],
   "source": [
    "# function to determine the response from the chatbot\n",
    "def interpretChat(processedText):\n",
    "  reply = ''\n",
    "  for sentence in processedText:\n",
    "    rand = random.random()\n",
    "    if re.search(\"[H|h]i|[H|h]ello|[H|h]ey\",sentence) is not None:\n",
    "      replies = {0:'Hello! How may I help you?',1:'Hi how may I assist you?',2:'How may I be of assistance?'}\n",
    "      reply = replies[round(rand*1000)%3]\n",
    "      print(reply)\n",
    "    elif re.search(\"[A|a]ppointent|[D|d]octor|[M|m]eet\",sentence) is not None:\n",
    "      replies = {0:'Would you like to contact a clinic?',1:'May I help you arrange an appointment?'}\n",
    "      reply = replies[round(rand*1000)%2]\n",
    "      print(reply)\n",
    "    elif re.search(\"[T|t]hank|[H|h]elpful\",sentence) is not None:\n",
    "      replies = {0:'My pleasure! :)',1:'Glad I could be of help!',2:'Welcome!'}\n",
    "      reply = replies[round(rand*1000)%3]\n",
    "      print(reply)\n",
    "    elif re.search(\"[F|f]eeling|[U|u]nwell|[S|s]ick\", sentence) is not None:\n",
    "      prognosisPredictor()\n",
    "    elif re.search(\"[B|b]ye|[S|s]ee you|[G|g]ood|[T|t]hanks\", sentence) is not None:\n",
    "      replies = {0:'Goodbye!',1:'See you!'}\n",
    "      reply = replies[round(rand*1000)%2]\n",
    "      print(reply)\n",
    "      return False\n",
    "    else:\n",
    "      replies = {0:'Pardon, I could not get what you were saying',1:'Sorry, I could not understand what you were saying. Would you mind rephrasing'}\n",
    "      reply = replies[round(rand*1000)%2]\n",
    "      reply += '\\n Try interacting with Hi, Hey, Hello.'\n",
    "      print(reply)\n",
    "  return True\n"
   ]
  },
  {
   "cell_type": "code",
   "execution_count": 91,
   "id": "4e6d9e5b",
   "metadata": {},
   "outputs": [
    {
     "name": "stdout",
     "output_type": "stream",
     "text": [
      "You are using the Chatbot... type something\n",
      "hi\n"
     ]
    },
    {
     "ename": "TypeError",
     "evalue": "can only join an iterable",
     "output_type": "error",
     "traceback": [
      "\u001b[1;31m---------------------------------------------------------------------------\u001b[0m",
      "\u001b[1;31mTypeError\u001b[0m                                 Traceback (most recent call last)",
      "\u001b[1;32m<ipython-input-91-2534908f649f>\u001b[0m in \u001b[0;36m<module>\u001b[1;34m\u001b[0m\n\u001b[0;32m      5\u001b[0m \u001b[1;32mwhile\u001b[0m \u001b[0mcontinueChat\u001b[0m\u001b[1;33m:\u001b[0m\u001b[1;33m\u001b[0m\u001b[1;33m\u001b[0m\u001b[0m\n\u001b[0;32m      6\u001b[0m   \u001b[0mchatIn\u001b[0m \u001b[1;33m=\u001b[0m \u001b[0minput\u001b[0m\u001b[1;33m(\u001b[0m\u001b[1;33m)\u001b[0m\u001b[1;33m\u001b[0m\u001b[1;33m\u001b[0m\u001b[0m\n\u001b[1;32m----> 7\u001b[1;33m   \u001b[0mprocessedIN\u001b[0m \u001b[1;33m=\u001b[0m \u001b[0muserChat\u001b[0m\u001b[1;33m(\u001b[0m\u001b[0mchatIn\u001b[0m\u001b[1;33m)\u001b[0m\u001b[1;33m\u001b[0m\u001b[1;33m\u001b[0m\u001b[0m\n\u001b[0m\u001b[0;32m      8\u001b[0m   \u001b[0mcontinueChat\u001b[0m \u001b[1;33m=\u001b[0m \u001b[0minterpretChat\u001b[0m\u001b[1;33m(\u001b[0m\u001b[0mprocessedIN\u001b[0m\u001b[1;33m)\u001b[0m\u001b[1;33m\u001b[0m\u001b[1;33m\u001b[0m\u001b[0m\n",
      "\u001b[1;32m<ipython-input-89-0c88d29be752>\u001b[0m in \u001b[0;36muserChat\u001b[1;34m(request)\u001b[0m\n\u001b[0;32m      6\u001b[0m     \u001b[0mwords\u001b[0m \u001b[1;33m=\u001b[0m \u001b[0mtokenizer\u001b[0m\u001b[1;33m(\u001b[0m\u001b[0mreqSentences\u001b[0m\u001b[1;33m[\u001b[0m\u001b[0mi\u001b[0m\u001b[1;33m]\u001b[0m\u001b[1;33m)\u001b[0m\u001b[1;33m\u001b[0m\u001b[1;33m\u001b[0m\u001b[0m\n\u001b[0;32m      7\u001b[0m     \u001b[0mstemmedWords\u001b[0m \u001b[1;33m=\u001b[0m \u001b[0mstemmer\u001b[0m\u001b[1;33m(\u001b[0m\u001b[0mwords\u001b[0m\u001b[1;33m)\u001b[0m\u001b[1;33m\u001b[0m\u001b[1;33m\u001b[0m\u001b[0m\n\u001b[1;32m----> 8\u001b[1;33m     \u001b[0mstemmedSentence\u001b[0m \u001b[1;33m=\u001b[0m \u001b[1;34m' '\u001b[0m\u001b[1;33m.\u001b[0m\u001b[0mjoin\u001b[0m\u001b[1;33m(\u001b[0m\u001b[0mstemmedWords\u001b[0m\u001b[1;33m)\u001b[0m\u001b[1;33m\u001b[0m\u001b[1;33m\u001b[0m\u001b[0m\n\u001b[0m\u001b[0;32m      9\u001b[0m     \u001b[0mprocessedText\u001b[0m\u001b[1;33m.\u001b[0m\u001b[0mappend\u001b[0m\u001b[1;33m(\u001b[0m\u001b[0mstemmedSentence\u001b[0m\u001b[1;33m)\u001b[0m\u001b[1;33m\u001b[0m\u001b[1;33m\u001b[0m\u001b[0m\n\u001b[0;32m     10\u001b[0m   \u001b[1;32mreturn\u001b[0m \u001b[0mprocessedText\u001b[0m\u001b[1;33m\u001b[0m\u001b[1;33m\u001b[0m\u001b[0m\n",
      "\u001b[1;31mTypeError\u001b[0m: can only join an iterable"
     ]
    }
   ],
   "source": [
    "# Running the code\n",
    "\n",
    "continueChat = True\n",
    "print('You are using the Chatbot... type something')\n",
    "while continueChat:\n",
    "  chatIn = input()\n",
    "  processedIN = userChat(chatIn)\n",
    "  continueChat = interpretChat(processedIN)\n"
   ]
  },
  {
   "cell_type": "code",
   "execution_count": null,
   "id": "5f11a3e3",
   "metadata": {},
   "outputs": [],
   "source": []
  },
  {
   "cell_type": "code",
   "execution_count": null,
   "id": "69447e1d",
   "metadata": {},
   "outputs": [],
   "source": []
  },
  {
   "cell_type": "code",
   "execution_count": 92,
   "id": "5aaee01d",
   "metadata": {},
   "outputs": [],
   "source": [
    "#app_rough.py"
   ]
  },
  {
   "cell_type": "code",
   "execution_count": 93,
   "id": "e4ad0915",
   "metadata": {},
   "outputs": [],
   "source": [
    "import re # for regex\n",
    "import random\n",
    "#importing all necessary libraries for ML\n",
    "import pandas as pd\n",
    "from sklearn import preprocessing\n",
    "import numpy as np\n",
    "from sklearn.model_selection import train_test_split\n",
    "\n",
    "from sklearn.tree import DecisionTreeClassifier,_tree\n",
    "import numpy as np\n",
    "from sklearn.model_selection import train_test_split\n",
    "from sklearn.model_selection import cross_val_score\n",
    "from sklearn.svm import SVC\n",
    "import csv\n",
    "import warnings\n",
    "warnings.filterwarnings(\"ignore\", category=DeprecationWarning)"
   ]
  },
  {
   "cell_type": "code",
   "execution_count": 94,
   "id": "5f83b656",
   "metadata": {},
   "outputs": [],
   "source": [
    "#ML part\n",
    "training = pd.read_csv('Training.csv')\n",
    "testing= pd.read_csv('Testing.csv')\n",
    "cols= training.columns\n",
    "cols= cols[:-1]   #feature columns\n",
    "X = training[cols]\n",
    "Y = training['prognosis']"
   ]
  },
  {
   "cell_type": "code",
   "execution_count": 95,
   "id": "62e889d1",
   "metadata": {},
   "outputs": [],
   "source": [
    "# def getSymptoms():\n",
    "#   global symptomList\n",
    "#   symptomList = list(training.columns)\n",
    "\n",
    "#assigning values to strings\n",
    "le = preprocessing.LabelEncoder()\n",
    "le.fit(Y)\n",
    "Y = le.transform(Y)\n",
    "\n",
    "#splitting dataset into test and train data\n",
    "x_train, x_test, y_train, y_test = train_test_split(X, Y, test_size=0.33, random_state=42)"
   ]
  },
  {
   "cell_type": "code",
   "execution_count": 96,
   "id": "7170802c",
   "metadata": {},
   "outputs": [],
   "source": [
    "# Training Decision Tree Classifier\n",
    "# rf_model = DecisionTreeClassifier()\n",
    "# rf_model.fit(x_train, y_train)\n",
    "# pred_y = rf_model.predict(x_test)\n",
    "\n",
    "clf1  = DecisionTreeClassifier()\n",
    "clf = clf1.fit(x_train,y_train)\n",
    "# print(clf.score(x_train,y_train))\n",
    "# print (\"cross result========\")\n",
    "# scores = cross_val_score(clf, x_test, y_test, cv=3)\n",
    "# print (scores)\n",
    "# print (scores.mean())"
   ]
  },
  {
   "cell_type": "code",
   "execution_count": 97,
   "id": "79b67e61",
   "metadata": {},
   "outputs": [],
   "source": [
    "\n",
    "model=SVC()\n",
    "model.fit(x_train,y_train)\n",
    "# print(\"for svm: \")\n",
    "# print(model.score(x_test,y_test))\n",
    "\n",
    "importances = clf.feature_importances_\n",
    "indices = np.argsort(importances)[::-1]\n",
    "features = cols\n",
    "\n",
    "# def getSymptoms():\n",
    "#   global symptomList\n",
    "#   symptomList = list(training.columns)\n",
    "\n",
    "\n",
    "\n",
    "#storing the data from csv into dictionaries\n",
    "severityDictionary = {}\n",
    "description_list = {}\n",
    "precautionDictionary = {}\n"
   ]
  },
  {
   "cell_type": "code",
   "execution_count": 98,
   "id": "4c82028e",
   "metadata": {},
   "outputs": [],
   "source": [
    "def getDescription():\n",
    "    global description_list\n",
    "    with open('symptom_Description.csv') as csv_file:\n",
    "        csv_reader = csv.reader(csv_file, delimiter=',')\n",
    "        line_count = 0\n",
    "        for row in csv_reader:\n",
    "            _description={row[0]:row[1]}\n",
    "            description_list.update(_description)\n"
   ]
  },
  {
   "cell_type": "code",
   "execution_count": 99,
   "id": "49a5b746",
   "metadata": {},
   "outputs": [],
   "source": [
    "def getSeverityDict():\n",
    "    global severityDictionary\n",
    "    with open('symptom_severity.csv') as csv_file:\n",
    "\n",
    "        csv_reader = csv.reader(csv_file, delimiter=',')\n",
    "        line_count = 0\n",
    "        try:\n",
    "            for row in csv_reader:\n",
    "                _diction={row[0]:int(row[1])}\n",
    "                severityDictionary.update(_diction)\n",
    "        except:\n",
    "            pass\n"
   ]
  },
  {
   "cell_type": "code",
   "execution_count": 100,
   "id": "632fdff5",
   "metadata": {},
   "outputs": [],
   "source": [
    "def getprecautionDict():\n",
    "    global precautionDictionary\n",
    "    with open('symptom_precaution.csv') as csv_file:\n",
    "\n",
    "        csv_reader = csv.reader(csv_file, delimiter=',')\n",
    "        line_count = 0\n",
    "        for row in csv_reader:\n",
    "            _prec={row[0]:[row[1],row[2],row[3],row[4]]}\n",
    "            precautionDictionary.update(_prec)\n"
   ]
  },
  {
   "cell_type": "code",
   "execution_count": 101,
   "id": "44e476d4",
   "metadata": {},
   "outputs": [],
   "source": [
    "def getInfo():\n",
    "    # name=input(\"Name:\")\n",
    "    print(\"Your Name \\n\\t\\t\\t\\t\\t\\t\",end=\"->\")\n",
    "    name=input(\"\")\n",
    "    print(\"hello \",name)\n"
   ]
  },
  {
   "cell_type": "code",
   "execution_count": 102,
   "id": "97fdaaea",
   "metadata": {},
   "outputs": [],
   "source": [
    "def check_pattern(dis_list,inp):\n",
    "    import re\n",
    "    pred_list=[]\n",
    "    ptr=0\n",
    "    patt = \"^\" + inp + \"$\"\n",
    "    regexp = re.compile(inp)\n",
    "    for item in dis_list:\n",
    "\n",
    "        # print(f\"comparing {inp} to {item}\")\n",
    "        if regexp.search(item):\n",
    "            pred_list.append(item)\n",
    "            # return 1,item\n",
    "    if(len(pred_list)>0):\n",
    "        return 1,pred_list\n",
    "    else:\n",
    "        return ptr,item\n"
   ]
  },
  {
   "cell_type": "code",
   "execution_count": 103,
   "id": "6db46d30",
   "metadata": {},
   "outputs": [],
   "source": [
    "def sec_predict(symptoms_exp):\n",
    "    df = pd.read_csv('Training.csv')\n",
    "    X = df.iloc[:, :-1]\n",
    "    y = df['prognosis']\n",
    "    X_train, X_test, y_train, y_test = train_test_split(X, y, test_size=0.3, random_state=20)\n",
    "    rf_clf = DecisionTreeClassifier()\n",
    "    rf_clf.fit(X_train, y_train)\n",
    "\n",
    "    symptoms_dict = {}\n",
    "\n",
    "    for index, symptom in enumerate(X):\n",
    "        symptoms_dict[symptom] = index\n",
    "\n",
    "    input_vector = np.zeros(len(symptoms_dict))\n",
    "    for item in symptoms_exp:\n",
    "      input_vector[[symptoms_dict[item]]] = 1\n",
    "\n",
    "    return rf_clf.predict([input_vector])\n"
   ]
  },
  {
   "cell_type": "code",
   "execution_count": 104,
   "id": "a6267cc5",
   "metadata": {},
   "outputs": [],
   "source": [
    "def calc_condition(exp,days):\n",
    "    sum=0\n",
    "    for item in exp:\n",
    "         sum=sum+severityDictionary[item]\n",
    "    if((sum*days)/(len(exp)+1)>13):\n",
    "        print(\"You should take the consultation from doctor. \")\n",
    "    else:\n",
    "        print(\"It might not be that bad but you should take precautions.\")"
   ]
  },
  {
   "cell_type": "code",
   "execution_count": 105,
   "id": "00bb89b2",
   "metadata": {},
   "outputs": [],
   "source": [
    "def print_disease(node):\n",
    "    #print(node)\n",
    "    node = node[0]\n",
    "    #print(len(node))\n",
    "    val  = node.nonzero() \n",
    "    # print(val)\n",
    "    disease = le.inverse_transform(val[0])\n",
    "    return disease"
   ]
  },
  {
   "cell_type": "code",
   "execution_count": 106,
   "id": "ad7c1bdd",
   "metadata": {},
   "outputs": [],
   "source": [
    "reduced_data = training.groupby(training['prognosis']).max()"
   ]
  },
  {
   "cell_type": "code",
   "execution_count": 107,
   "id": "1fde2cbc",
   "metadata": {},
   "outputs": [],
   "source": [
    "def tree_to_code(tree, feature_names):\n",
    "    tree_ = tree.tree_\n",
    "    # print(tree_)\n",
    "    feature_name = [\n",
    "        feature_names[i] if i != _tree.TREE_UNDEFINED else \"undefined!\"\n",
    "        for i in tree_.feature\n",
    "    ]\n",
    "\n",
    "    chk_dis=\",\".join(feature_names).split(\",\")\n",
    "    symptoms_present = []\n",
    "\n",
    "\n",
    "    # conf_inp=int()\n",
    "    while True:\n",
    "\n",
    "        print(\"Enter the symptom you are experiencing  \\n\\t\\t\\t\\t\\t\\t\",end=\"->\")\n",
    "        disease_input = input(\"\")\n",
    "        conf,cnf_dis=check_pattern(chk_dis,disease_input)\n",
    "        if conf==1:\n",
    "            print(\"searches related to input: \")\n",
    "            for num,it in enumerate(cnf_dis):\n",
    "                print(num,\")\",it)\n",
    "            if num!=0:\n",
    "                print(f\"Select the one you meant (0 - {num}):  \", end=\"\")\n",
    "                conf_inp = int(input(\"\"))\n",
    "            else:\n",
    "                conf_inp=0\n",
    "\n",
    "            disease_input=cnf_dis[conf_inp]\n",
    "            break\n",
    "            # print(\"Did you mean: \",cnf_dis,\"?(yes/no) :\",end=\"\")\n",
    "            # conf_inp = input(\"\")\n",
    "            # if(conf_inp==\"yes\"):\n",
    "            #     break\n",
    "        else:\n",
    "            print(\"Enter valid symptom.\")\n",
    "\n",
    "    while True:\n",
    "        try:\n",
    "            num_days=int(input(\"Okay. From how many days ? : \"))\n",
    "            break\n",
    "        except:\n",
    "            print(\"Enter number of days.\")\n",
    "    def recurse(node, depth):\n",
    "        indent = \"  \" * depth\n",
    "        if tree_.feature[node] != _tree.TREE_UNDEFINED:\n",
    "            name = feature_name[node]\n",
    "            threshold = tree_.threshold[node]\n",
    "\n",
    "            if name == disease_input:\n",
    "                val = 1\n",
    "            else:\n",
    "                val = 0\n",
    "            if  val <= threshold:\n",
    "                recurse(tree_.children_left[node], depth + 1)\n",
    "            else:\n",
    "                symptoms_present.append(name)\n",
    "                recurse(tree_.children_right[node], depth + 1)\n",
    "        else:\n",
    "            present_disease = print_disease(tree_.value[node])\n",
    "            # print( \"You may have \" +  present_disease )\n",
    "            red_cols = reduced_data.columns \n",
    "            symptoms_given = red_cols[reduced_data.loc[present_disease].values[0].nonzero()]\n",
    "            # dis_list=list(symptoms_present)\n",
    "            # if len(dis_list)!=0:\n",
    "            #     print(\"symptoms present  \" + str(list(symptoms_present)))\n",
    "            # print(\"symptoms given \"  +  str(list(symptoms_given)) )\n",
    "            print(\"Are you experiencing any \")\n",
    "            symptoms_exp=[]\n",
    "            for syms in list(symptoms_given):\n",
    "                inp=\"\"\n",
    "                print(syms,\"? : \",end='')\n",
    "                while True:\n",
    "                    inp=input(\"\")\n",
    "                    if(inp==\"yes\" or inp==\"no\"):\n",
    "                        break\n",
    "                    else:\n",
    "                        print(\"provide proper answers i.e. (yes/no) : \",end=\"\")\n",
    "                if(inp==\"yes\"):\n",
    "                    symptoms_exp.append(syms)\n",
    "\n",
    "            second_prediction=sec_predict(symptoms_exp)\n",
    "            # print(second_prediction)\n",
    "            calc_condition(symptoms_exp,num_days)\n",
    "            if(present_disease[0]==second_prediction[0]):\n",
    "                print(\"You may have \", present_disease[0])\n",
    "\n",
    "                print(description_list[present_disease[0]])\n",
    "\n",
    "                # readn(f\"You may have {present_disease[0]}\")\n",
    "                # readn(f\"{description_list[present_disease[0]]}\")\n",
    "\n",
    "            else:\n",
    "                print(\"You may have \", present_disease[0], \"or \", second_prediction[0])\n",
    "                print(description_list[present_disease[0]])\n",
    "                print(description_list[second_prediction[0]])\n",
    "\n",
    "            # print(description_list[present_disease[0]])\n",
    "            precution_list=precautionDictionary[present_disease[0]]\n",
    "            print(\"Take following measures : \")\n",
    "            for  i,j in enumerate(precution_list):\n",
    "                print(i+1,\")\",j)\n",
    "\n",
    "            # confidence_level = (1.0*len(symptoms_present))/len(symptoms_given)\n",
    "            # print(\"confidence level is \" + str(confidence_level))\n",
    "\n",
    "    recurse(0, 1)\n"
   ]
  },
  {
   "cell_type": "code",
   "execution_count": 108,
   "id": "94f51e5f",
   "metadata": {},
   "outputs": [],
   "source": [
    "#ML part\n",
    "training = pd.read_csv('Training.csv')\n",
    "testing= pd.read_csv('Testing.csv')\n",
    "cols= training.columns\n",
    "cols= cols[:-1]   #feature columns\n",
    "X = training[cols]\n",
    "Y = training['prognosis']\n"
   ]
  },
  {
   "cell_type": "code",
   "execution_count": 109,
   "id": "cffadc37",
   "metadata": {},
   "outputs": [],
   "source": [
    "def getSymptoms():\n",
    "  global symptomList\n",
    "  symptomList = list(training.columns)\n",
    "\n",
    "#assigning values to strings\n",
    "le = preprocessing.LabelEncoder()\n",
    "le.fit(Y)\n",
    "Y = le.transform(Y)\n",
    "\n",
    "#splitting dataset into test and train data\n",
    "x_train, x_test, y_train, y_test = train_test_split(X, Y, test_size=0.33, random_state=42)\n",
    "\n",
    "# Training Random Forest Classifier\n",
    "rf_model = DecisionTreeClassifier()\n",
    "rf_model.fit(x_train, y_train)\n",
    "pred_y = rf_model.predict(x_test)"
   ]
  },
  {
   "cell_type": "code",
   "execution_count": 110,
   "id": "7c096759",
   "metadata": {},
   "outputs": [],
   "source": [
    "def prognosisPredictor():\n",
    "  getSeverityDict()\n",
    "  getDescription()\n",
    "  getprecautionDict()\n",
    "  getInfo()\n",
    "  tree_to_code(clf,cols)"
   ]
  },
  {
   "cell_type": "code",
   "execution_count": 111,
   "id": "ec1e9131",
   "metadata": {},
   "outputs": [],
   "source": [
    "# fn for splitting the body of text into its constituent sentences\n",
    "def splitIntoSentences(text):\n",
    "  sentences = re.split(\"[.!?]\", text)\n",
    "  try:\n",
    "    sentences.remove(\"\")\n",
    "  except:\n",
    "    pass\n",
    "  return sentences"
   ]
  },
  {
   "cell_type": "code",
   "execution_count": 112,
   "id": "10b19322",
   "metadata": {},
   "outputs": [],
   "source": [
    "# fn for extracting the individual words from the sentence\n",
    "def tokenizer(sentence):\n",
    "  words = re.split(\"[\\s,]\", sentence)\n",
    "  try:\n",
    "    words.remove(\"\")\n",
    "  except:\n",
    "    pass\n",
    "  return words"
   ]
  },
  {
   "cell_type": "code",
   "execution_count": 113,
   "id": "e1a284aa",
   "metadata": {},
   "outputs": [],
   "source": [
    "# stemming the words\n",
    "def stemmer(tokens):\n",
    "  stem = []\n",
    "  for token in tokens:\n",
    "    if token.endswith(\"ies\"):\n",
    "      token = token.replace('ies','y',1)\n",
    "      stem.append(token)\n",
    "    elif token.endswith('s'):\n",
    "      stem.append(token[0:-1])\n",
    "    elif token.endswith(\"ed\"):\n",
    "      stem.append(token[0:-2])\n",
    "    elif token.endswith(\"ing\"):\n",
    "      stem.append(token[0:-3])\n",
    "    else:\n",
    "      stem.append(token)\n",
    "  return stemmer"
   ]
  },
  {
   "cell_type": "code",
   "execution_count": 114,
   "id": "7b4bc287",
   "metadata": {},
   "outputs": [],
   "source": [
    "# function that can clean up any body of text\n",
    "def cleanTxt(text):\n",
    "    text = str(text)\n",
    "    text = text.lower()\n",
    "    text = re.sub(r'[;:!\\\\\"\\'()\\[\\]]',\"\", text)\n",
    "    text = re.sub(r'(<br\\s*/><br\\s*/>)|(\\-)|(\\/)',\" \", text)\n",
    "    return text\n"
   ]
  },
  {
   "cell_type": "code",
   "execution_count": 115,
   "id": "5b023460",
   "metadata": {},
   "outputs": [],
   "source": [
    "# function for processing the chat on user side\n",
    "def userChat(request):\n",
    "  processedText = []\n",
    "  reqSentences = splitIntoSentences(request)\n",
    "  for i in range(0,len(reqSentences)):\n",
    "    words = tokenizer(reqSentences[i])\n",
    "    stemmedWords = stemmer(words)\n",
    "    stemmedSentence = ' '.join(stemmedWords)\n",
    "    processedText.append(stemmedSentence)\n",
    "  return processedText\n"
   ]
  },
  {
   "cell_type": "code",
   "execution_count": 116,
   "id": "7e13e577",
   "metadata": {},
   "outputs": [],
   "source": [
    "# function to determine the response from the chatbot\n",
    "def interpretChat(processedText):\n",
    "  reply = ''\n",
    "  for sentence in processedText:\n",
    "    rand = random.random()\n",
    "    if re.search(\"[H|h]i|[H|h]ello|[H|h]ey\",sentence) is not None:\n",
    "      replies = {0:'Hello! How may I help you?',1:'Hi how may I assist you?',2:'How may I be of assistance?'}\n",
    "      reply = replies[round(rand*1000)%3]\n",
    "      print(reply)\n",
    "    elif re.search(\"[A|a]ppointent|[D|d]octor|[M|m]eet\",sentence) is not None:\n",
    "      replies = {0:'Would you like to contact a clinic?',1:'May I help you arrange an appointment?'}\n",
    "      reply = replies[round(rand*1000)%2]\n",
    "      print(reply)\n",
    "    elif re.search(\"[F|f]eeling|[U|u]nwell|[S|s]ick\", sentence) is not None:\n",
    "      prognosisPredictor()\n",
    "    elif re.search(\"[B|b]ye|[S|s]ee you|[G|g]ood|[T|t]hanks\", sentence) is not None:\n",
    "      replies = {0:'Goodbye!',1:'See you!'}\n",
    "      reply = replies[round(rand*1000)%2]\n",
    "      print(reply)\n",
    "      return False\n",
    "  return True\n"
   ]
  },
  {
   "cell_type": "code",
   "execution_count": 117,
   "id": "81357390",
   "metadata": {},
   "outputs": [
    {
     "name": "stdout",
     "output_type": "stream",
     "text": [
      "You are using the Chatbot... type something\n",
      "hi\n"
     ]
    },
    {
     "ename": "TypeError",
     "evalue": "can only join an iterable",
     "output_type": "error",
     "traceback": [
      "\u001b[1;31m---------------------------------------------------------------------------\u001b[0m",
      "\u001b[1;31mTypeError\u001b[0m                                 Traceback (most recent call last)",
      "\u001b[1;32m<ipython-input-117-2534908f649f>\u001b[0m in \u001b[0;36m<module>\u001b[1;34m\u001b[0m\n\u001b[0;32m      5\u001b[0m \u001b[1;32mwhile\u001b[0m \u001b[0mcontinueChat\u001b[0m\u001b[1;33m:\u001b[0m\u001b[1;33m\u001b[0m\u001b[1;33m\u001b[0m\u001b[0m\n\u001b[0;32m      6\u001b[0m   \u001b[0mchatIn\u001b[0m \u001b[1;33m=\u001b[0m \u001b[0minput\u001b[0m\u001b[1;33m(\u001b[0m\u001b[1;33m)\u001b[0m\u001b[1;33m\u001b[0m\u001b[1;33m\u001b[0m\u001b[0m\n\u001b[1;32m----> 7\u001b[1;33m   \u001b[0mprocessedIN\u001b[0m \u001b[1;33m=\u001b[0m \u001b[0muserChat\u001b[0m\u001b[1;33m(\u001b[0m\u001b[0mchatIn\u001b[0m\u001b[1;33m)\u001b[0m\u001b[1;33m\u001b[0m\u001b[1;33m\u001b[0m\u001b[0m\n\u001b[0m\u001b[0;32m      8\u001b[0m   \u001b[0mcontinueChat\u001b[0m \u001b[1;33m=\u001b[0m \u001b[0minterpretChat\u001b[0m\u001b[1;33m(\u001b[0m\u001b[0mprocessedIN\u001b[0m\u001b[1;33m)\u001b[0m\u001b[1;33m\u001b[0m\u001b[1;33m\u001b[0m\u001b[0m\n",
      "\u001b[1;32m<ipython-input-115-0c88d29be752>\u001b[0m in \u001b[0;36muserChat\u001b[1;34m(request)\u001b[0m\n\u001b[0;32m      6\u001b[0m     \u001b[0mwords\u001b[0m \u001b[1;33m=\u001b[0m \u001b[0mtokenizer\u001b[0m\u001b[1;33m(\u001b[0m\u001b[0mreqSentences\u001b[0m\u001b[1;33m[\u001b[0m\u001b[0mi\u001b[0m\u001b[1;33m]\u001b[0m\u001b[1;33m)\u001b[0m\u001b[1;33m\u001b[0m\u001b[1;33m\u001b[0m\u001b[0m\n\u001b[0;32m      7\u001b[0m     \u001b[0mstemmedWords\u001b[0m \u001b[1;33m=\u001b[0m \u001b[0mstemmer\u001b[0m\u001b[1;33m(\u001b[0m\u001b[0mwords\u001b[0m\u001b[1;33m)\u001b[0m\u001b[1;33m\u001b[0m\u001b[1;33m\u001b[0m\u001b[0m\n\u001b[1;32m----> 8\u001b[1;33m     \u001b[0mstemmedSentence\u001b[0m \u001b[1;33m=\u001b[0m \u001b[1;34m' '\u001b[0m\u001b[1;33m.\u001b[0m\u001b[0mjoin\u001b[0m\u001b[1;33m(\u001b[0m\u001b[0mstemmedWords\u001b[0m\u001b[1;33m)\u001b[0m\u001b[1;33m\u001b[0m\u001b[1;33m\u001b[0m\u001b[0m\n\u001b[0m\u001b[0;32m      9\u001b[0m     \u001b[0mprocessedText\u001b[0m\u001b[1;33m.\u001b[0m\u001b[0mappend\u001b[0m\u001b[1;33m(\u001b[0m\u001b[0mstemmedSentence\u001b[0m\u001b[1;33m)\u001b[0m\u001b[1;33m\u001b[0m\u001b[1;33m\u001b[0m\u001b[0m\n\u001b[0;32m     10\u001b[0m   \u001b[1;32mreturn\u001b[0m \u001b[0mprocessedText\u001b[0m\u001b[1;33m\u001b[0m\u001b[1;33m\u001b[0m\u001b[0m\n",
      "\u001b[1;31mTypeError\u001b[0m: can only join an iterable"
     ]
    }
   ],
   "source": [
    "# Running the code\n",
    "\n",
    "continueChat = True\n",
    "print('You are using the Chatbot... type something')\n",
    "while continueChat:\n",
    "  chatIn = input()\n",
    "  processedIN = userChat(chatIn)\n",
    "  continueChat = interpretChat(processedIN)\n"
   ]
  },
  {
   "cell_type": "code",
   "execution_count": null,
   "id": "d741f4be",
   "metadata": {},
   "outputs": [],
   "source": []
  },
  {
   "cell_type": "code",
   "execution_count": null,
   "id": "15729701",
   "metadata": {},
   "outputs": [],
   "source": []
  },
  {
   "cell_type": "code",
   "execution_count": null,
   "id": "f5a910bc",
   "metadata": {},
   "outputs": [],
   "source": []
  },
  {
   "cell_type": "code",
   "execution_count": 118,
   "id": "44e366f8",
   "metadata": {},
   "outputs": [],
   "source": [
    "#app2.py"
   ]
  },
  {
   "cell_type": "code",
   "execution_count": 119,
   "id": "97ec37b4",
   "metadata": {},
   "outputs": [],
   "source": [
    "import re # for regex\n",
    "import random\n",
    "#importing all necessary libraries for ML\n",
    "import pandas as pd\n",
    "from sklearn import preprocessing\n",
    "from sklearn.ensemble import RandomForestClassifier\n",
    "import numpy as np\n",
    "from sklearn.model_selection import train_test_split"
   ]
  },
  {
   "cell_type": "code",
   "execution_count": 120,
   "id": "b5065d0c",
   "metadata": {},
   "outputs": [],
   "source": [
    "\n",
    "#ML part\n",
    "training = pd.read_csv('Training.csv')\n",
    "testing= pd.read_csv('Testing.csv')\n",
    "cols= training.columns\n",
    "cols= cols[:-1]   #feature columns\n",
    "X = training[cols]\n",
    "Y = training['prognosis']"
   ]
  },
  {
   "cell_type": "code",
   "execution_count": 121,
   "id": "e4b7c6d7",
   "metadata": {},
   "outputs": [],
   "source": [
    "\n",
    "def getSymptoms():\n",
    "  global symptomList\n",
    "  symptomList = list(training.columns)\n"
   ]
  },
  {
   "cell_type": "code",
   "execution_count": 122,
   "id": "01ea66b5",
   "metadata": {},
   "outputs": [],
   "source": [
    "#assigning values to strings\n",
    "le = preprocessing.LabelEncoder()\n",
    "le.fit(Y)\n",
    "Y = le.transform(Y)\n",
    "\n",
    "#splitting dataset into test and train data\n",
    "x_train, x_test, y_train, y_test = train_test_split(X, Y, test_size=0.33, random_state=42)\n"
   ]
  },
  {
   "cell_type": "code",
   "execution_count": 123,
   "id": "0d789978",
   "metadata": {},
   "outputs": [],
   "source": [
    "# Training Random Forest Classifier\n",
    "rf_model = RandomForestClassifier(random_state=18)\n",
    "rf_model.fit(x_train, y_train)\n",
    "pred_y = rf_model.predict(x_test)\n"
   ]
  },
  {
   "cell_type": "code",
   "execution_count": 124,
   "id": "5be287b7",
   "metadata": {},
   "outputs": [],
   "source": [
    "def prognosisPredictor():\n",
    "  getSymptoms()\n",
    "  print('Enter your symptoms:')\n",
    "  sym = input()\n",
    "  symptoms = tokenizer(sym)\n",
    "  inputVector = 132*[0]\n",
    "  for symptom in symptoms:\n",
    "    try:\n",
    "      x = symptomList.index(symptom)\n",
    "      inputVector[x] = 1\n",
    "    except:\n",
    "      pass\n",
    "  #print(inputVector)\n",
    "  pred = rf_model.predict([inputVector])\n",
    "  print('You may be suffering from: ', le.inverse_transform(pred)[0])\n"
   ]
  },
  {
   "cell_type": "code",
   "execution_count": 125,
   "id": "79298649",
   "metadata": {},
   "outputs": [],
   "source": [
    "# fn for splitting the body of text into its constituent sentences\n",
    "def splitIntoSentences(text):\n",
    "  sentences = re.split(\"[.!?]\", text)\n",
    "  try:\n",
    "    sentences.remove(\"\")\n",
    "  except:\n",
    "    pass\n",
    "  return sentences\n"
   ]
  },
  {
   "cell_type": "code",
   "execution_count": 126,
   "id": "afe7cec2",
   "metadata": {},
   "outputs": [],
   "source": [
    "# fn for extracting the individual words from the sentence\n",
    "def tokenizer(sentence):\n",
    "  words = re.split(\"[\\s,]\", sentence)\n",
    "  try:\n",
    "    words.remove(\"\")\n",
    "  except:\n",
    "    pass\n",
    "  return words\n"
   ]
  },
  {
   "cell_type": "code",
   "execution_count": 127,
   "id": "b7d349b4",
   "metadata": {},
   "outputs": [],
   "source": [
    "# stemming the words\n",
    "def stemmer(tokens):\n",
    "  stem = []\n",
    "  for token in tokens:\n",
    "    if token.endswith(\"ies\"):\n",
    "      token = token.replace('ies','y',1)\n",
    "      stem.append(token)\n",
    "    elif token.endswith('s'):\n",
    "      stem.append(token[0:-1])\n",
    "    elif token.endswith(\"ed\"):\n",
    "      stem.append(token[0:-2])\n",
    "    elif token.endswith(\"ing\"):\n",
    "      stem.append(token[0:-3])\n",
    "    else:\n",
    "      stem.append(token)\n",
    "  return stem\n"
   ]
  },
  {
   "cell_type": "code",
   "execution_count": 128,
   "id": "35d8f2cc",
   "metadata": {},
   "outputs": [],
   "source": [
    "# function that can clean up any body of text\n",
    "def cleanTxt(text):\n",
    "    text = str(text)\n",
    "    text = text.lower()\n",
    "    text = re.sub(r'[;:!\\\\\"\\'()\\[\\]]',\"\", text)\n",
    "    text = re.sub(r'(<br\\s*/><br\\s*/>)|(\\-)|(\\/)',\" \", text)\n",
    "    return text\n"
   ]
  },
  {
   "cell_type": "code",
   "execution_count": 129,
   "id": "6113a1db",
   "metadata": {},
   "outputs": [],
   "source": [
    "# function for processing the chat on user side\n",
    "def userChat(request):\n",
    "  processedText = []\n",
    "  reqSentences = splitIntoSentences(request)\n",
    "  for i in range(0,len(reqSentences)):\n",
    "    words = tokenizer(reqSentences[i])\n",
    "    stemmedWords = stemmer(words)\n",
    "    stemmedSentence = ' '.join(stemmedWords)\n",
    "    processedText.append(stemmedSentence)\n",
    "  return processedText\n"
   ]
  },
  {
   "cell_type": "code",
   "execution_count": 130,
   "id": "cab44db8",
   "metadata": {},
   "outputs": [],
   "source": [
    "# function to determine the response from the chatbot\n",
    "def interpretChat(processedText):\n",
    "  continueChat = True\n",
    "  reply = ''\n",
    "  for sentence in processedText:\n",
    "    rand = random.random()\n",
    "    if re.search(\"[H|h]i|[H|h]ello|[H|h]ey\",sentence) is not None:\n",
    "      replies = {0:'Hello! How may I help you?',1:'Hi how may I assist you?',2:'How may I be of assistance?'}\n",
    "      reply = replies[round(rand*1000)%3]\n",
    "      print(reply)\n",
    "    elif re.search(\"[A|a]ppointent|[D|d]octor|[M|m]eet\",sentence) is not None:\n",
    "      replies = {0:'Would you like to contact a clinic?',1:'May I help you arrange an appointment?'}\n",
    "      reply = replies[round(rand*1000)%2]\n",
    "      print(reply)\n",
    "    elif re.search(\"[F|f]eeling|[U|u]nwell|[S|s]ick\", sentence) is not None:\n",
    "      prognosisPredictor()\n",
    "    elif re.search(\"[B|b]ye|[S|s]ee you|[G|g]ood\", sentence) is not None:\n",
    "      replies = {0:'Goodbye!',1:'See you!'}\n",
    "      reply = replies[round(rand*1000)%2]\n",
    "      print(reply)\n",
    "      return False\n",
    "  return True\n"
   ]
  },
  {
   "cell_type": "code",
   "execution_count": 131,
   "id": "55a04d49",
   "metadata": {},
   "outputs": [
    {
     "name": "stdout",
     "output_type": "stream",
     "text": [
      "You are using the Chatbot... type something\n",
      "hi\n",
      "How may I be of assistance?\n",
      "sick\n",
      "Enter your symptoms:\n",
      "fever\n",
      "You may be suffering from:  Dimorphic hemmorhoids(piles)\n"
     ]
    },
    {
     "ename": "KeyboardInterrupt",
     "evalue": "Interrupted by user",
     "output_type": "error",
     "traceback": [
      "\u001b[1;31m---------------------------------------------------------------------------\u001b[0m",
      "\u001b[1;31mKeyboardInterrupt\u001b[0m                         Traceback (most recent call last)",
      "\u001b[1;32m<ipython-input-131-e371bcc60a16>\u001b[0m in \u001b[0;36m<module>\u001b[1;34m\u001b[0m\n\u001b[0;32m      2\u001b[0m \u001b[0mprint\u001b[0m\u001b[1;33m(\u001b[0m\u001b[1;34m'You are using the Chatbot... type something'\u001b[0m\u001b[1;33m)\u001b[0m\u001b[1;33m\u001b[0m\u001b[1;33m\u001b[0m\u001b[0m\n\u001b[0;32m      3\u001b[0m \u001b[1;32mwhile\u001b[0m \u001b[0mcontinueChat\u001b[0m\u001b[1;33m:\u001b[0m\u001b[1;33m\u001b[0m\u001b[1;33m\u001b[0m\u001b[0m\n\u001b[1;32m----> 4\u001b[1;33m   \u001b[0mchatIn\u001b[0m \u001b[1;33m=\u001b[0m \u001b[0minput\u001b[0m\u001b[1;33m(\u001b[0m\u001b[1;33m)\u001b[0m\u001b[1;33m\u001b[0m\u001b[1;33m\u001b[0m\u001b[0m\n\u001b[0m\u001b[0;32m      5\u001b[0m   \u001b[0mprocessedIN\u001b[0m \u001b[1;33m=\u001b[0m \u001b[0muserChat\u001b[0m\u001b[1;33m(\u001b[0m\u001b[0mchatIn\u001b[0m\u001b[1;33m)\u001b[0m\u001b[1;33m\u001b[0m\u001b[1;33m\u001b[0m\u001b[0m\n\u001b[0;32m      6\u001b[0m   \u001b[0mcontinueChat\u001b[0m \u001b[1;33m=\u001b[0m \u001b[0minterpretChat\u001b[0m\u001b[1;33m(\u001b[0m\u001b[0mprocessedIN\u001b[0m\u001b[1;33m)\u001b[0m\u001b[1;33m\u001b[0m\u001b[1;33m\u001b[0m\u001b[0m\n",
      "\u001b[1;32mD:\\ana\\lib\\site-packages\\ipykernel\\kernelbase.py\u001b[0m in \u001b[0;36mraw_input\u001b[1;34m(self, prompt)\u001b[0m\n\u001b[0;32m    858\u001b[0m                 \u001b[1;34m\"raw_input was called, but this frontend does not support input requests.\"\u001b[0m\u001b[1;33m\u001b[0m\u001b[1;33m\u001b[0m\u001b[0m\n\u001b[0;32m    859\u001b[0m             )\n\u001b[1;32m--> 860\u001b[1;33m         return self._input_request(str(prompt),\n\u001b[0m\u001b[0;32m    861\u001b[0m             \u001b[0mself\u001b[0m\u001b[1;33m.\u001b[0m\u001b[0m_parent_ident\u001b[0m\u001b[1;33m,\u001b[0m\u001b[1;33m\u001b[0m\u001b[1;33m\u001b[0m\u001b[0m\n\u001b[0;32m    862\u001b[0m             \u001b[0mself\u001b[0m\u001b[1;33m.\u001b[0m\u001b[0m_parent_header\u001b[0m\u001b[1;33m,\u001b[0m\u001b[1;33m\u001b[0m\u001b[1;33m\u001b[0m\u001b[0m\n",
      "\u001b[1;32mD:\\ana\\lib\\site-packages\\ipykernel\\kernelbase.py\u001b[0m in \u001b[0;36m_input_request\u001b[1;34m(self, prompt, ident, parent, password)\u001b[0m\n\u001b[0;32m    902\u001b[0m             \u001b[1;32mexcept\u001b[0m \u001b[0mKeyboardInterrupt\u001b[0m\u001b[1;33m:\u001b[0m\u001b[1;33m\u001b[0m\u001b[1;33m\u001b[0m\u001b[0m\n\u001b[0;32m    903\u001b[0m                 \u001b[1;31m# re-raise KeyboardInterrupt, to truncate traceback\u001b[0m\u001b[1;33m\u001b[0m\u001b[1;33m\u001b[0m\u001b[1;33m\u001b[0m\u001b[0m\n\u001b[1;32m--> 904\u001b[1;33m                 \u001b[1;32mraise\u001b[0m \u001b[0mKeyboardInterrupt\u001b[0m\u001b[1;33m(\u001b[0m\u001b[1;34m\"Interrupted by user\"\u001b[0m\u001b[1;33m)\u001b[0m \u001b[1;32mfrom\u001b[0m \u001b[1;32mNone\u001b[0m\u001b[1;33m\u001b[0m\u001b[1;33m\u001b[0m\u001b[0m\n\u001b[0m\u001b[0;32m    905\u001b[0m             \u001b[1;32mexcept\u001b[0m \u001b[0mException\u001b[0m \u001b[1;32mas\u001b[0m \u001b[0me\u001b[0m\u001b[1;33m:\u001b[0m\u001b[1;33m\u001b[0m\u001b[1;33m\u001b[0m\u001b[0m\n\u001b[0;32m    906\u001b[0m                 \u001b[0mself\u001b[0m\u001b[1;33m.\u001b[0m\u001b[0mlog\u001b[0m\u001b[1;33m.\u001b[0m\u001b[0mwarning\u001b[0m\u001b[1;33m(\u001b[0m\u001b[1;34m\"Invalid Message:\"\u001b[0m\u001b[1;33m,\u001b[0m \u001b[0mexc_info\u001b[0m\u001b[1;33m=\u001b[0m\u001b[1;32mTrue\u001b[0m\u001b[1;33m)\u001b[0m\u001b[1;33m\u001b[0m\u001b[1;33m\u001b[0m\u001b[0m\n",
      "\u001b[1;31mKeyboardInterrupt\u001b[0m: Interrupted by user"
     ]
    }
   ],
   "source": [
    "continueChat = True\n",
    "print('You are using the Chatbot... type something')\n",
    "while continueChat:\n",
    "  chatIn = input()\n",
    "  processedIN = userChat(chatIn)\n",
    "  continueChat = interpretChat(processedIN)\n"
   ]
  },
  {
   "cell_type": "code",
   "execution_count": null,
   "id": "6944feed",
   "metadata": {},
   "outputs": [],
   "source": []
  }
 ],
 "metadata": {
  "kernelspec": {
   "display_name": "Python 3",
   "language": "python",
   "name": "python3"
  },
  "language_info": {
   "codemirror_mode": {
    "name": "ipython",
    "version": 3
   },
   "file_extension": ".py",
   "mimetype": "text/x-python",
   "name": "python",
   "nbconvert_exporter": "python",
   "pygments_lexer": "ipython3",
   "version": "3.8.8"
  }
 },
 "nbformat": 4,
 "nbformat_minor": 5
}
